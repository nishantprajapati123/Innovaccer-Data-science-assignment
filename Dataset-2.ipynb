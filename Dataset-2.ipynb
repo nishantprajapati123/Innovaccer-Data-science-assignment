{
 "cells": [
  {
   "cell_type": "code",
   "execution_count": 1,
   "metadata": {},
   "outputs": [],
   "source": [
    "#Innovaccer internship submission\n",
    "#Dataset-2\n",
    "\"\"\"\n",
    "Intern_Name: Nishant prajapati\n",
    "College : National Institute of Technology, Rourkela\n",
    "Year : 3rd\n",
    "Department: Computer Science and Engineering\n",
    "Github: https://github.com/nishantprajapati123\n",
    "LinkedIn: https://www.linkedin.com/in/nishant-prajapati-11253b152/\n",
    "HackerRank : https://www.hackerrank.com/Nishant_2017\n",
    "FaceBook : https://www.facebook.com/nishant.kumar.7121614\n",
    "\n",
    "\"\"\"\n",
    "#importing required library\n",
    "import warnings\n",
    "warnings.filterwarnings('ignore')\n",
    "import numpy as np \n",
    "import pandas as pd \n",
    "import matplotlib.pyplot as plt\n",
    "import seaborn as sns\n",
    "from sklearn import model_selection, preprocessing\n",
    "color = sns.color_palette()\n",
    "%matplotlib inline"
   ]
  },
  {
   "cell_type": "markdown",
   "metadata": {},
   "source": [
    "# Exploratory Data Analysis"
   ]
  },
  {
   "cell_type": "code",
   "execution_count": 2,
   "metadata": {},
   "outputs": [],
   "source": [
    "#import excel file\n",
    "df=pd.read_excel(\"dataset2.xlsx\")"
   ]
  },
  {
   "cell_type": "code",
   "execution_count": 3,
   "metadata": {},
   "outputs": [
    {
     "name": "stdout",
     "output_type": "stream",
     "text": [
      "<class 'pandas.core.frame.DataFrame'>\n",
      "RangeIndex: 699 entries, 0 to 698\n",
      "Data columns (total 11 columns):\n",
      "Sample code number             699 non-null int64\n",
      "Clump Thickness                699 non-null int64\n",
      "Uniformity of Cell Size        699 non-null int64\n",
      "Uniformity of Cell Shape       699 non-null int64\n",
      "Marginal Adhesion              699 non-null int64\n",
      "Single Epithelial Cell Size    699 non-null int64\n",
      "Bare Nuclei                    699 non-null object\n",
      "Bland Chromatin                699 non-null int64\n",
      "Normal Nucleoli                699 non-null int64\n",
      "Mitoses                        699 non-null int64\n",
      "class                          699 non-null int64\n",
      "dtypes: int64(10), object(1)\n",
      "memory usage: 60.1+ KB\n"
     ]
    }
   ],
   "source": [
    "#basic information about dataframe\n",
    "df.info()"
   ]
  },
  {
   "cell_type": "code",
   "execution_count": 4,
   "metadata": {},
   "outputs": [
    {
     "data": {
      "text/html": [
       "<div>\n",
       "<style scoped>\n",
       "    .dataframe tbody tr th:only-of-type {\n",
       "        vertical-align: middle;\n",
       "    }\n",
       "\n",
       "    .dataframe tbody tr th {\n",
       "        vertical-align: top;\n",
       "    }\n",
       "\n",
       "    .dataframe thead th {\n",
       "        text-align: right;\n",
       "    }\n",
       "</style>\n",
       "<table border=\"1\" class=\"dataframe\">\n",
       "  <thead>\n",
       "    <tr style=\"text-align: right;\">\n",
       "      <th></th>\n",
       "      <th>Sample code number</th>\n",
       "      <th>Clump Thickness</th>\n",
       "      <th>Uniformity of Cell Size</th>\n",
       "      <th>Uniformity of Cell Shape</th>\n",
       "      <th>Marginal Adhesion</th>\n",
       "      <th>Single Epithelial Cell Size</th>\n",
       "      <th>Bland Chromatin</th>\n",
       "      <th>Normal Nucleoli</th>\n",
       "      <th>Mitoses</th>\n",
       "      <th>class</th>\n",
       "    </tr>\n",
       "  </thead>\n",
       "  <tbody>\n",
       "    <tr>\n",
       "      <th>count</th>\n",
       "      <td>6.990000e+02</td>\n",
       "      <td>699.000000</td>\n",
       "      <td>699.000000</td>\n",
       "      <td>699.000000</td>\n",
       "      <td>699.000000</td>\n",
       "      <td>699.000000</td>\n",
       "      <td>699.000000</td>\n",
       "      <td>699.000000</td>\n",
       "      <td>699.000000</td>\n",
       "      <td>699.000000</td>\n",
       "    </tr>\n",
       "    <tr>\n",
       "      <th>mean</th>\n",
       "      <td>1.071704e+06</td>\n",
       "      <td>4.417740</td>\n",
       "      <td>3.134478</td>\n",
       "      <td>3.207439</td>\n",
       "      <td>2.806867</td>\n",
       "      <td>3.216023</td>\n",
       "      <td>3.437768</td>\n",
       "      <td>2.866953</td>\n",
       "      <td>1.589413</td>\n",
       "      <td>2.689557</td>\n",
       "    </tr>\n",
       "    <tr>\n",
       "      <th>std</th>\n",
       "      <td>6.170957e+05</td>\n",
       "      <td>2.815741</td>\n",
       "      <td>3.051459</td>\n",
       "      <td>2.971913</td>\n",
       "      <td>2.855379</td>\n",
       "      <td>2.214300</td>\n",
       "      <td>2.438364</td>\n",
       "      <td>3.053634</td>\n",
       "      <td>1.715078</td>\n",
       "      <td>0.951273</td>\n",
       "    </tr>\n",
       "    <tr>\n",
       "      <th>min</th>\n",
       "      <td>6.163400e+04</td>\n",
       "      <td>1.000000</td>\n",
       "      <td>1.000000</td>\n",
       "      <td>1.000000</td>\n",
       "      <td>1.000000</td>\n",
       "      <td>1.000000</td>\n",
       "      <td>1.000000</td>\n",
       "      <td>1.000000</td>\n",
       "      <td>1.000000</td>\n",
       "      <td>2.000000</td>\n",
       "    </tr>\n",
       "    <tr>\n",
       "      <th>25%</th>\n",
       "      <td>8.706885e+05</td>\n",
       "      <td>2.000000</td>\n",
       "      <td>1.000000</td>\n",
       "      <td>1.000000</td>\n",
       "      <td>1.000000</td>\n",
       "      <td>2.000000</td>\n",
       "      <td>2.000000</td>\n",
       "      <td>1.000000</td>\n",
       "      <td>1.000000</td>\n",
       "      <td>2.000000</td>\n",
       "    </tr>\n",
       "    <tr>\n",
       "      <th>50%</th>\n",
       "      <td>1.171710e+06</td>\n",
       "      <td>4.000000</td>\n",
       "      <td>1.000000</td>\n",
       "      <td>1.000000</td>\n",
       "      <td>1.000000</td>\n",
       "      <td>2.000000</td>\n",
       "      <td>3.000000</td>\n",
       "      <td>1.000000</td>\n",
       "      <td>1.000000</td>\n",
       "      <td>2.000000</td>\n",
       "    </tr>\n",
       "    <tr>\n",
       "      <th>75%</th>\n",
       "      <td>1.238298e+06</td>\n",
       "      <td>6.000000</td>\n",
       "      <td>5.000000</td>\n",
       "      <td>5.000000</td>\n",
       "      <td>4.000000</td>\n",
       "      <td>4.000000</td>\n",
       "      <td>5.000000</td>\n",
       "      <td>4.000000</td>\n",
       "      <td>1.000000</td>\n",
       "      <td>4.000000</td>\n",
       "    </tr>\n",
       "    <tr>\n",
       "      <th>max</th>\n",
       "      <td>1.345435e+07</td>\n",
       "      <td>10.000000</td>\n",
       "      <td>10.000000</td>\n",
       "      <td>10.000000</td>\n",
       "      <td>10.000000</td>\n",
       "      <td>10.000000</td>\n",
       "      <td>10.000000</td>\n",
       "      <td>10.000000</td>\n",
       "      <td>10.000000</td>\n",
       "      <td>4.000000</td>\n",
       "    </tr>\n",
       "  </tbody>\n",
       "</table>\n",
       "</div>"
      ],
      "text/plain": [
       "       Sample code number  Clump Thickness  Uniformity of Cell Size  \\\n",
       "count        6.990000e+02       699.000000               699.000000   \n",
       "mean         1.071704e+06         4.417740                 3.134478   \n",
       "std          6.170957e+05         2.815741                 3.051459   \n",
       "min          6.163400e+04         1.000000                 1.000000   \n",
       "25%          8.706885e+05         2.000000                 1.000000   \n",
       "50%          1.171710e+06         4.000000                 1.000000   \n",
       "75%          1.238298e+06         6.000000                 5.000000   \n",
       "max          1.345435e+07        10.000000                10.000000   \n",
       "\n",
       "       Uniformity of Cell Shape  Marginal Adhesion  \\\n",
       "count                699.000000         699.000000   \n",
       "mean                   3.207439           2.806867   \n",
       "std                    2.971913           2.855379   \n",
       "min                    1.000000           1.000000   \n",
       "25%                    1.000000           1.000000   \n",
       "50%                    1.000000           1.000000   \n",
       "75%                    5.000000           4.000000   \n",
       "max                   10.000000          10.000000   \n",
       "\n",
       "       Single Epithelial Cell Size  Bland Chromatin  Normal Nucleoli  \\\n",
       "count                   699.000000       699.000000       699.000000   \n",
       "mean                      3.216023         3.437768         2.866953   \n",
       "std                       2.214300         2.438364         3.053634   \n",
       "min                       1.000000         1.000000         1.000000   \n",
       "25%                       2.000000         2.000000         1.000000   \n",
       "50%                       2.000000         3.000000         1.000000   \n",
       "75%                       4.000000         5.000000         4.000000   \n",
       "max                      10.000000        10.000000        10.000000   \n",
       "\n",
       "          Mitoses       class  \n",
       "count  699.000000  699.000000  \n",
       "mean     1.589413    2.689557  \n",
       "std      1.715078    0.951273  \n",
       "min      1.000000    2.000000  \n",
       "25%      1.000000    2.000000  \n",
       "50%      1.000000    2.000000  \n",
       "75%      1.000000    4.000000  \n",
       "max     10.000000    4.000000  "
      ]
     },
     "execution_count": 4,
     "metadata": {},
     "output_type": "execute_result"
    }
   ],
   "source": [
    "#statistical description of data\n",
    "df.describe()"
   ]
  },
  {
   "cell_type": "code",
   "execution_count": 5,
   "metadata": {},
   "outputs": [],
   "source": [
    "#start index from 1\n",
    "df.index+=1"
   ]
  },
  {
   "cell_type": "code",
   "execution_count": 6,
   "metadata": {},
   "outputs": [
    {
     "data": {
      "text/html": [
       "<div>\n",
       "<style scoped>\n",
       "    .dataframe tbody tr th:only-of-type {\n",
       "        vertical-align: middle;\n",
       "    }\n",
       "\n",
       "    .dataframe tbody tr th {\n",
       "        vertical-align: top;\n",
       "    }\n",
       "\n",
       "    .dataframe thead th {\n",
       "        text-align: right;\n",
       "    }\n",
       "</style>\n",
       "<table border=\"1\" class=\"dataframe\">\n",
       "  <thead>\n",
       "    <tr style=\"text-align: right;\">\n",
       "      <th></th>\n",
       "      <th>Sample code number</th>\n",
       "      <th>Clump Thickness</th>\n",
       "      <th>Uniformity of Cell Size</th>\n",
       "      <th>Uniformity of Cell Shape</th>\n",
       "      <th>Marginal Adhesion</th>\n",
       "      <th>Single Epithelial Cell Size</th>\n",
       "      <th>Bare Nuclei</th>\n",
       "      <th>Bland Chromatin</th>\n",
       "      <th>Normal Nucleoli</th>\n",
       "      <th>Mitoses</th>\n",
       "      <th>class</th>\n",
       "    </tr>\n",
       "  </thead>\n",
       "  <tbody>\n",
       "    <tr>\n",
       "      <th>1</th>\n",
       "      <td>1000025</td>\n",
       "      <td>5</td>\n",
       "      <td>1</td>\n",
       "      <td>1</td>\n",
       "      <td>1</td>\n",
       "      <td>2</td>\n",
       "      <td>1</td>\n",
       "      <td>3</td>\n",
       "      <td>1</td>\n",
       "      <td>1</td>\n",
       "      <td>2</td>\n",
       "    </tr>\n",
       "    <tr>\n",
       "      <th>2</th>\n",
       "      <td>1002945</td>\n",
       "      <td>5</td>\n",
       "      <td>4</td>\n",
       "      <td>4</td>\n",
       "      <td>5</td>\n",
       "      <td>7</td>\n",
       "      <td>10</td>\n",
       "      <td>3</td>\n",
       "      <td>2</td>\n",
       "      <td>1</td>\n",
       "      <td>2</td>\n",
       "    </tr>\n",
       "    <tr>\n",
       "      <th>3</th>\n",
       "      <td>1015425</td>\n",
       "      <td>3</td>\n",
       "      <td>1</td>\n",
       "      <td>1</td>\n",
       "      <td>1</td>\n",
       "      <td>2</td>\n",
       "      <td>2</td>\n",
       "      <td>3</td>\n",
       "      <td>1</td>\n",
       "      <td>1</td>\n",
       "      <td>2</td>\n",
       "    </tr>\n",
       "    <tr>\n",
       "      <th>4</th>\n",
       "      <td>1016277</td>\n",
       "      <td>6</td>\n",
       "      <td>8</td>\n",
       "      <td>8</td>\n",
       "      <td>1</td>\n",
       "      <td>3</td>\n",
       "      <td>4</td>\n",
       "      <td>3</td>\n",
       "      <td>7</td>\n",
       "      <td>1</td>\n",
       "      <td>2</td>\n",
       "    </tr>\n",
       "    <tr>\n",
       "      <th>5</th>\n",
       "      <td>1017023</td>\n",
       "      <td>4</td>\n",
       "      <td>1</td>\n",
       "      <td>1</td>\n",
       "      <td>3</td>\n",
       "      <td>2</td>\n",
       "      <td>1</td>\n",
       "      <td>3</td>\n",
       "      <td>1</td>\n",
       "      <td>1</td>\n",
       "      <td>2</td>\n",
       "    </tr>\n",
       "  </tbody>\n",
       "</table>\n",
       "</div>"
      ],
      "text/plain": [
       "   Sample code number  Clump Thickness  Uniformity of Cell Size  \\\n",
       "1             1000025                5                        1   \n",
       "2             1002945                5                        4   \n",
       "3             1015425                3                        1   \n",
       "4             1016277                6                        8   \n",
       "5             1017023                4                        1   \n",
       "\n",
       "   Uniformity of Cell Shape  Marginal Adhesion  Single Epithelial Cell Size  \\\n",
       "1                         1                  1                            2   \n",
       "2                         4                  5                            7   \n",
       "3                         1                  1                            2   \n",
       "4                         8                  1                            3   \n",
       "5                         1                  3                            2   \n",
       "\n",
       "  Bare Nuclei  Bland Chromatin  Normal Nucleoli  Mitoses  class  \n",
       "1           1                3                1        1      2  \n",
       "2          10                3                2        1      2  \n",
       "3           2                3                1        1      2  \n",
       "4           4                3                7        1      2  \n",
       "5           1                3                1        1      2  "
      ]
     },
     "execution_count": 6,
     "metadata": {},
     "output_type": "execute_result"
    }
   ],
   "source": [
    "df.head()"
   ]
  },
  {
   "cell_type": "code",
   "execution_count": 7,
   "metadata": {},
   "outputs": [
    {
     "data": {
      "text/plain": [
       "Index(['Sample code number', 'Clump Thickness', 'Uniformity of Cell Size',\n",
       "       'Uniformity of Cell Shape', 'Marginal Adhesion',\n",
       "       'Single Epithelial Cell Size', 'Bare Nuclei', 'Bland Chromatin',\n",
       "       'Normal Nucleoli', 'Mitoses', 'class'],\n",
       "      dtype='object')"
      ]
     },
     "execution_count": 7,
     "metadata": {},
     "output_type": "execute_result"
    }
   ],
   "source": [
    "#column names\n",
    "df.columns"
   ]
  },
  {
   "cell_type": "code",
   "execution_count": 8,
   "metadata": {
    "scrolled": true
   },
   "outputs": [
    {
     "name": "stdout",
     "output_type": "stream",
     "text": [
      "Unique value in  Sample code number [ 1000025  1002945  1015425  1016277  1017023  1017122  1018099  1018561\n",
      "  1033078  1035283  1036172  1041801  1043999  1044572  1047630  1048672\n",
      "  1049815  1050670  1050718  1054590  1054593  1056784  1057013  1059552\n",
      "  1065726  1066373  1066979  1067444  1070935  1071760  1072179  1074610\n",
      "  1075123  1079304  1080185  1081791  1084584  1091262  1096800  1099510\n",
      "  1100524  1102573  1103608  1103722  1105257  1105524  1106095  1106829\n",
      "  1108370  1108449  1110102  1110503  1110524  1111249  1112209  1113038\n",
      "  1113483  1113906  1115282  1115293  1116116  1116132  1116192  1116998\n",
      "  1117152  1118039  1120559  1121732  1121919  1123061  1124651  1125035\n",
      "  1126417  1131294  1132347  1133041  1133136  1136142  1137156  1143978\n",
      "  1147044  1147699  1147748  1148278  1148873  1152331  1155546  1156272\n",
      "  1156948  1157734  1158247  1160476  1164066  1165297  1165790  1165926\n",
      "  1166630  1166654  1167439  1167471  1168359  1168736  1169049  1170419\n",
      "  1170420  1171710  1171795  1171845  1172152  1173216  1173235  1173347\n",
      "  1173509  1173514  1173681  1174057  1174131  1174428  1175937  1176406\n",
      "  1176881  1177027  1177399  1177512  1178580  1179818  1180194  1180523\n",
      "  1180831  1181356  1182404  1182410  1183240  1183246  1183516  1183911\n",
      "  1183983  1184184  1184241  1184840  1185609  1185610  1187457  1187805\n",
      "  1188472  1189266  1189286  1190394  1190485  1192325  1193091  1193210\n",
      "  1193683  1196295  1196915  1197080  1197270  1197440  1197510  1197979\n",
      "  1197993  1198128  1198641  1199219  1199731  1199983  1200772  1200847\n",
      "  1200892  1200952  1201834  1201936  1202125  1202812  1203096  1204242\n",
      "  1204898  1205138  1205579  1206089  1206695  1206841  1207986  1208301\n",
      "  1210963  1211202  1212232  1212251  1212422  1213375  1213383  1214092\n",
      "  1214556  1214966  1216694  1216947  1217051  1217264  1218105  1218741\n",
      "  1218860  1219406  1219525  1219859  1220330  1221863  1222047  1222936\n",
      "  1223282  1223426  1223793  1223967  1224329  1225799  1226012  1226612\n",
      "  1227210  1227244  1227481  1228152  1228311  1230175  1230688  1231387\n",
      "  1231706  1232225  1236043  1241232  1241559  1241679  1242364  1243256\n",
      "  1270479  1276091  1277018   128059  1285531  1287775   144888   145447\n",
      "   167528   169356   183913   191250   242970   255644   263538   274137\n",
      "   303213   314428   320675   324427   385103   390840   411453   428903\n",
      "   431495   432809   434518   452264   456282   476903   486283   486662\n",
      "   488173   492268   508234   527363   529329   535331   543558   555977\n",
      "   560680   561477   563649   601265   606140   606722   616240    61634\n",
      "   625201    63375   635844   636130   640744   646904   653777   659642\n",
      "   666090   666942   667204   673637   684955   688033   691628   693702\n",
      "   704097   704168   706426   709287   718641   721482   730881   733639\n",
      "   733823   740492   743348   752904   756136   760001   760239    76389\n",
      "   764974   770066   785208   785615   792744   797327   798429   806423\n",
      "   809912   810104   814265   814911   822829   826923   830690   831268\n",
      "   832226   832567   836433   837082   846832   850831   855524   857774\n",
      "   859164   859350   866325   873549   877291   877943   888169   888523\n",
      "   896404   897172    95719   160296   342245   428598   492561   493452\n",
      "   521441   636437   640712   654244   657753   685977   805448   846423\n",
      "  1002504  1022257  1026122  1071084  1080233  1114570  1116715  1131411\n",
      "  1151734  1156017  1158405  1168278  1176187  1196263  1196475  1206314\n",
      "  1211265  1213784  1223003  1223306  1223543  1229929  1231853  1234554\n",
      "  1236837  1237674  1238021  1238464  1238633  1238915  1238948  1239232\n",
      "  1239347  1239967  1240337  1253505  1255384  1257200  1257648  1257815\n",
      "  1257938  1258549  1258556  1266154  1272039  1277629  1293439  1294562\n",
      "  1295186   527337   558538   566509   608157   677910   734111   780555\n",
      "   827627  1049837  1058849  1193544  1201870  1202253  1227081  1230994\n",
      "  1238410  1246562  1257470  1259008  1266124  1267898  1268313  1268804\n",
      "  1280258  1293966  1296572  1298416  1299596  1181685  1211594  1238777\n",
      "  1257608  1269574  1277145  1287282  1296025  1296263  1296593  1299161\n",
      "  1301945  1302428  1318169   474162   787451  1002025  1070522  1073960\n",
      "  1076352  1084139  1119189  1133991  1142706  1155967  1170945  1181567\n",
      "  1204558  1217952  1224565  1238186  1253917  1265899  1268766  1277268\n",
      "  1286943  1295508  1297327  1297522  1298360  1299924  1299994  1304595\n",
      "  1306282  1313325  1320077  1320304  1330439   333093   369565   412300\n",
      "   672113   749653   769612   807657  8233704   837480   867392   869828\n",
      "  1043068  1056171  1061990  1113061  1135090  1145420  1158157  1171578\n",
      "  1174841  1184586  1186936  1197527  1222464  1240603  1241035  1287971\n",
      "  1289391  1306339  1313658  1313982  1321264  1321321  1321348  1321931\n",
      "  1321942  1328331  1328755  1331405  1331412  1333104  1334071  1343068\n",
      "  1343374  1344121   142932   183936   324382   378275   690557   695091\n",
      "   695219   824249   871549   878358  1107684  1115762  1217717  1239420\n",
      "  1254538  1261751  1268275  1272166  1294261  1295529  1298484  1311875\n",
      "  1315506  1320141  1325309  1333063  1333495  1334659  1336798  1344449\n",
      "  1350568  1352663   188336   352431   353098   557583   636375   736150\n",
      "   803531  1016634  1031608  1041043  1042252  1057067  1073836  1083817\n",
      "  1096352  1140597  1149548  1174009  1183596  1190386  1190546  1213273\n",
      "  1218982  1225382  1235807  1253955  1257366  1260659  1268952  1275807\n",
      "  1277792  1285722  1288608  1290203  1294413  1303489  1311033  1311108\n",
      "  1315807  1318671  1319609  1323477  1324572  1324681  1325159  1326892\n",
      "  1330361  1333877  1334015  1334667  1339781 13454352  1345452  1345593\n",
      "  1347749  1347943  1348851  1350319  1350423  1352848  1353092  1354840\n",
      "  1355260  1365075  1365328  1368267  1368273  1368882  1369821  1371026\n",
      "  1371920   466906   534555   536708   566346   603148   654546   714039\n",
      "   763235   776715   841769   888820   897471]\n",
      "---------------------------------------------------------------------------------------------------------------\n",
      "Unique value in  Clump Thickness [ 5  3  6  4  8  1  2  7 10  9]\n",
      "---------------------------------------------------------------------------------------------------------------\n",
      "Unique value in  Uniformity of Cell Size [ 1  4  8 10  2  3  7  5  6  9]\n",
      "---------------------------------------------------------------------------------------------------------------\n",
      "Unique value in  Uniformity of Cell Shape [ 1  4  8 10  2  3  5  6  7  9]\n",
      "---------------------------------------------------------------------------------------------------------------\n",
      "Unique value in  Marginal Adhesion [ 1  5  3  8 10  4  6  2  9  7]\n",
      "---------------------------------------------------------------------------------------------------------------\n",
      "Unique value in  Single Epithelial Cell Size [ 2  7  3  1  6  4  5  8 10  9]\n",
      "---------------------------------------------------------------------------------------------------------------\n",
      "Unique value in  Bare Nuclei [1 10 2 4 3 9 7 '?' 5 8 6]\n",
      "---------------------------------------------------------------------------------------------------------------\n",
      "Unique value in  Bland Chromatin [ 3  9  1  2  4  5  7  8  6 10]\n",
      "---------------------------------------------------------------------------------------------------------------\n",
      "Unique value in  Normal Nucleoli [ 1  2  7  4  5  3 10  6  9  8]\n",
      "---------------------------------------------------------------------------------------------------------------\n",
      "Unique value in  Mitoses [ 1  5  4  2  3  7 10  8  6]\n",
      "---------------------------------------------------------------------------------------------------------------\n",
      "Unique value in  class [2 4]\n",
      "---------------------------------------------------------------------------------------------------------------\n"
     ]
    }
   ],
   "source": [
    "#unique value in each column\n",
    "for i in df.columns:\n",
    "    print(\"Unique value in \",i,df[i].unique())\n",
    "    print(\"---------------------------------------------------------------------------------------------------------------\")"
   ]
  },
  {
   "cell_type": "code",
   "execution_count": 9,
   "metadata": {},
   "outputs": [
    {
     "name": "stdout",
     "output_type": "stream",
     "text": [
      "1182404    6\n",
      "1276091    5\n",
      "1198641    3\n",
      "466906     2\n",
      "1116116    2\n",
      "1070935    2\n",
      "385103     2\n",
      "1293439    2\n",
      "1240603    2\n",
      "1277792    2\n",
      "1168736    2\n",
      "560680     2\n",
      "1174057    2\n",
      "822829     2\n",
      "320675     2\n",
      "897471     2\n",
      "1114570    2\n",
      "1339781    2\n",
      "654546     2\n",
      "704097     2\n",
      "1017023    2\n",
      "734111     2\n",
      "1354840    2\n",
      "769612     2\n",
      "411453     2\n",
      "1158247    2\n",
      "1321942    2\n",
      "1061990    2\n",
      "733639     2\n",
      "1218860    2\n",
      "          ..\n",
      "1096352    1\n",
      "255644     1\n",
      "1201870    1\n",
      "1169049    1\n",
      "1041043    1\n",
      "1190546    1\n",
      "1071760    1\n",
      "797327     1\n",
      "1293966    1\n",
      "1214092    1\n",
      "1184241    1\n",
      "432809     1\n",
      "1201834    1\n",
      "1125035    1\n",
      "888523     1\n",
      "1182410    1\n",
      "640712     1\n",
      "1018561    1\n",
      "1336798    1\n",
      "1091262    1\n",
      "1173216    1\n",
      "1286943    1\n",
      "1319609    1\n",
      "1172152    1\n",
      "558538     1\n",
      "1207986    1\n",
      "1302428    1\n",
      "857774     1\n",
      "1181356    1\n",
      "625201     1\n",
      "Name: Sample code number, Length: 645, dtype: int64\n",
      "------------------------------------------------------------------------------\n",
      "1     145\n",
      "5     130\n",
      "3     108\n",
      "4      80\n",
      "10     69\n",
      "2      50\n",
      "8      46\n",
      "6      34\n",
      "7      23\n",
      "9      14\n",
      "Name: Clump Thickness, dtype: int64\n",
      "------------------------------------------------------------------------------\n",
      "1     384\n",
      "10     67\n",
      "3      52\n",
      "2      45\n",
      "4      40\n",
      "5      30\n",
      "8      29\n",
      "6      27\n",
      "7      19\n",
      "9       6\n",
      "Name: Uniformity of Cell Size, dtype: int64\n",
      "------------------------------------------------------------------------------\n",
      "1     353\n",
      "2      59\n",
      "10     58\n",
      "3      56\n",
      "4      44\n",
      "5      34\n",
      "7      30\n",
      "6      30\n",
      "8      28\n",
      "9       7\n",
      "Name: Uniformity of Cell Shape, dtype: int64\n",
      "------------------------------------------------------------------------------\n",
      "1     407\n",
      "3      58\n",
      "2      58\n",
      "10     55\n",
      "4      33\n",
      "8      25\n",
      "5      23\n",
      "6      22\n",
      "7      13\n",
      "9       5\n",
      "Name: Marginal Adhesion, dtype: int64\n",
      "------------------------------------------------------------------------------\n",
      "2     386\n",
      "3      72\n",
      "4      48\n",
      "1      47\n",
      "6      41\n",
      "5      39\n",
      "10     31\n",
      "8      21\n",
      "7      12\n",
      "9       2\n",
      "Name: Single Epithelial Cell Size, dtype: int64\n",
      "------------------------------------------------------------------------------\n",
      "1     402\n",
      "10    132\n",
      "5      30\n",
      "2      30\n",
      "3      28\n",
      "8      21\n",
      "4      19\n",
      "?      16\n",
      "9       9\n",
      "7       8\n",
      "6       4\n",
      "Name: Bare Nuclei, dtype: int64\n",
      "------------------------------------------------------------------------------\n",
      "2     166\n",
      "3     165\n",
      "1     152\n",
      "7      73\n",
      "4      40\n",
      "5      34\n",
      "8      28\n",
      "10     20\n",
      "9      11\n",
      "6      10\n",
      "Name: Bland Chromatin, dtype: int64\n",
      "------------------------------------------------------------------------------\n",
      "1     443\n",
      "10     61\n",
      "3      44\n",
      "2      36\n",
      "8      24\n",
      "6      22\n",
      "5      19\n",
      "4      18\n",
      "9      16\n",
      "7      16\n",
      "Name: Normal Nucleoli, dtype: int64\n",
      "------------------------------------------------------------------------------\n",
      "1     579\n",
      "2      35\n",
      "3      33\n",
      "10     14\n",
      "4      12\n",
      "7       9\n",
      "8       8\n",
      "5       6\n",
      "6       3\n",
      "Name: Mitoses, dtype: int64\n",
      "------------------------------------------------------------------------------\n",
      "2    458\n",
      "4    241\n",
      "Name: class, dtype: int64\n",
      "------------------------------------------------------------------------------\n"
     ]
    }
   ],
   "source": [
    "#how many times a particular value has repeated\n",
    "for i in df.columns:\n",
    "    print(df[i].value_counts())\n",
    "    print(\"------------------------------------------------------------------------------\")"
   ]
  },
  {
   "cell_type": "markdown",
   "metadata": {},
   "source": [
    "As we have seen that there are 16 row in 'Bare nuclei' column which has NAN value. <br>   Therefore we can delete that 16 row"
   ]
  },
  {
   "cell_type": "code",
   "execution_count": 10,
   "metadata": {},
   "outputs": [],
   "source": [
    "#drop all that rows\n",
    "df=df.drop(df[df['Bare Nuclei']=='?'].index)"
   ]
  },
  {
   "cell_type": "code",
   "execution_count": 11,
   "metadata": {},
   "outputs": [
    {
     "data": {
      "text/plain": [
       "(683, 11)"
      ]
     },
     "execution_count": 11,
     "metadata": {},
     "output_type": "execute_result"
    }
   ],
   "source": [
    "df.shape"
   ]
  },
  {
   "cell_type": "code",
   "execution_count": 12,
   "metadata": {},
   "outputs": [],
   "source": [
    "#reset the index\n",
    "df = df.reset_index(drop=True)\n",
    "#start index from 1\n",
    "df.index+=1"
   ]
  },
  {
   "cell_type": "code",
   "execution_count": 13,
   "metadata": {
    "scrolled": true
   },
   "outputs": [
    {
     "data": {
      "text/html": [
       "<div>\n",
       "<style scoped>\n",
       "    .dataframe tbody tr th:only-of-type {\n",
       "        vertical-align: middle;\n",
       "    }\n",
       "\n",
       "    .dataframe tbody tr th {\n",
       "        vertical-align: top;\n",
       "    }\n",
       "\n",
       "    .dataframe thead th {\n",
       "        text-align: right;\n",
       "    }\n",
       "</style>\n",
       "<table border=\"1\" class=\"dataframe\">\n",
       "  <thead>\n",
       "    <tr style=\"text-align: right;\">\n",
       "      <th></th>\n",
       "      <th>Sample code number</th>\n",
       "      <th>Clump Thickness</th>\n",
       "      <th>Uniformity of Cell Size</th>\n",
       "      <th>Uniformity of Cell Shape</th>\n",
       "      <th>Marginal Adhesion</th>\n",
       "      <th>Single Epithelial Cell Size</th>\n",
       "      <th>Bare Nuclei</th>\n",
       "      <th>Bland Chromatin</th>\n",
       "      <th>Normal Nucleoli</th>\n",
       "      <th>Mitoses</th>\n",
       "      <th>class</th>\n",
       "    </tr>\n",
       "  </thead>\n",
       "  <tbody>\n",
       "    <tr>\n",
       "      <th>1</th>\n",
       "      <td>1000025</td>\n",
       "      <td>5</td>\n",
       "      <td>1</td>\n",
       "      <td>1</td>\n",
       "      <td>1</td>\n",
       "      <td>2</td>\n",
       "      <td>1</td>\n",
       "      <td>3</td>\n",
       "      <td>1</td>\n",
       "      <td>1</td>\n",
       "      <td>2</td>\n",
       "    </tr>\n",
       "    <tr>\n",
       "      <th>2</th>\n",
       "      <td>1002945</td>\n",
       "      <td>5</td>\n",
       "      <td>4</td>\n",
       "      <td>4</td>\n",
       "      <td>5</td>\n",
       "      <td>7</td>\n",
       "      <td>10</td>\n",
       "      <td>3</td>\n",
       "      <td>2</td>\n",
       "      <td>1</td>\n",
       "      <td>2</td>\n",
       "    </tr>\n",
       "    <tr>\n",
       "      <th>3</th>\n",
       "      <td>1015425</td>\n",
       "      <td>3</td>\n",
       "      <td>1</td>\n",
       "      <td>1</td>\n",
       "      <td>1</td>\n",
       "      <td>2</td>\n",
       "      <td>2</td>\n",
       "      <td>3</td>\n",
       "      <td>1</td>\n",
       "      <td>1</td>\n",
       "      <td>2</td>\n",
       "    </tr>\n",
       "    <tr>\n",
       "      <th>4</th>\n",
       "      <td>1016277</td>\n",
       "      <td>6</td>\n",
       "      <td>8</td>\n",
       "      <td>8</td>\n",
       "      <td>1</td>\n",
       "      <td>3</td>\n",
       "      <td>4</td>\n",
       "      <td>3</td>\n",
       "      <td>7</td>\n",
       "      <td>1</td>\n",
       "      <td>2</td>\n",
       "    </tr>\n",
       "    <tr>\n",
       "      <th>5</th>\n",
       "      <td>1017023</td>\n",
       "      <td>4</td>\n",
       "      <td>1</td>\n",
       "      <td>1</td>\n",
       "      <td>3</td>\n",
       "      <td>2</td>\n",
       "      <td>1</td>\n",
       "      <td>3</td>\n",
       "      <td>1</td>\n",
       "      <td>1</td>\n",
       "      <td>2</td>\n",
       "    </tr>\n",
       "    <tr>\n",
       "      <th>6</th>\n",
       "      <td>1017122</td>\n",
       "      <td>8</td>\n",
       "      <td>10</td>\n",
       "      <td>10</td>\n",
       "      <td>8</td>\n",
       "      <td>7</td>\n",
       "      <td>10</td>\n",
       "      <td>9</td>\n",
       "      <td>7</td>\n",
       "      <td>1</td>\n",
       "      <td>4</td>\n",
       "    </tr>\n",
       "    <tr>\n",
       "      <th>7</th>\n",
       "      <td>1018099</td>\n",
       "      <td>1</td>\n",
       "      <td>1</td>\n",
       "      <td>1</td>\n",
       "      <td>1</td>\n",
       "      <td>2</td>\n",
       "      <td>10</td>\n",
       "      <td>3</td>\n",
       "      <td>1</td>\n",
       "      <td>1</td>\n",
       "      <td>2</td>\n",
       "    </tr>\n",
       "    <tr>\n",
       "      <th>8</th>\n",
       "      <td>1018561</td>\n",
       "      <td>2</td>\n",
       "      <td>1</td>\n",
       "      <td>2</td>\n",
       "      <td>1</td>\n",
       "      <td>2</td>\n",
       "      <td>1</td>\n",
       "      <td>3</td>\n",
       "      <td>1</td>\n",
       "      <td>1</td>\n",
       "      <td>2</td>\n",
       "    </tr>\n",
       "    <tr>\n",
       "      <th>9</th>\n",
       "      <td>1033078</td>\n",
       "      <td>2</td>\n",
       "      <td>1</td>\n",
       "      <td>1</td>\n",
       "      <td>1</td>\n",
       "      <td>2</td>\n",
       "      <td>1</td>\n",
       "      <td>1</td>\n",
       "      <td>1</td>\n",
       "      <td>5</td>\n",
       "      <td>2</td>\n",
       "    </tr>\n",
       "    <tr>\n",
       "      <th>10</th>\n",
       "      <td>1033078</td>\n",
       "      <td>4</td>\n",
       "      <td>2</td>\n",
       "      <td>1</td>\n",
       "      <td>1</td>\n",
       "      <td>2</td>\n",
       "      <td>1</td>\n",
       "      <td>2</td>\n",
       "      <td>1</td>\n",
       "      <td>1</td>\n",
       "      <td>2</td>\n",
       "    </tr>\n",
       "    <tr>\n",
       "      <th>11</th>\n",
       "      <td>1035283</td>\n",
       "      <td>1</td>\n",
       "      <td>1</td>\n",
       "      <td>1</td>\n",
       "      <td>1</td>\n",
       "      <td>1</td>\n",
       "      <td>1</td>\n",
       "      <td>3</td>\n",
       "      <td>1</td>\n",
       "      <td>1</td>\n",
       "      <td>2</td>\n",
       "    </tr>\n",
       "    <tr>\n",
       "      <th>12</th>\n",
       "      <td>1036172</td>\n",
       "      <td>2</td>\n",
       "      <td>1</td>\n",
       "      <td>1</td>\n",
       "      <td>1</td>\n",
       "      <td>2</td>\n",
       "      <td>1</td>\n",
       "      <td>2</td>\n",
       "      <td>1</td>\n",
       "      <td>1</td>\n",
       "      <td>2</td>\n",
       "    </tr>\n",
       "    <tr>\n",
       "      <th>13</th>\n",
       "      <td>1041801</td>\n",
       "      <td>5</td>\n",
       "      <td>3</td>\n",
       "      <td>3</td>\n",
       "      <td>3</td>\n",
       "      <td>2</td>\n",
       "      <td>3</td>\n",
       "      <td>4</td>\n",
       "      <td>4</td>\n",
       "      <td>1</td>\n",
       "      <td>4</td>\n",
       "    </tr>\n",
       "    <tr>\n",
       "      <th>14</th>\n",
       "      <td>1043999</td>\n",
       "      <td>1</td>\n",
       "      <td>1</td>\n",
       "      <td>1</td>\n",
       "      <td>1</td>\n",
       "      <td>2</td>\n",
       "      <td>3</td>\n",
       "      <td>3</td>\n",
       "      <td>1</td>\n",
       "      <td>1</td>\n",
       "      <td>2</td>\n",
       "    </tr>\n",
       "    <tr>\n",
       "      <th>15</th>\n",
       "      <td>1044572</td>\n",
       "      <td>8</td>\n",
       "      <td>7</td>\n",
       "      <td>5</td>\n",
       "      <td>10</td>\n",
       "      <td>7</td>\n",
       "      <td>9</td>\n",
       "      <td>5</td>\n",
       "      <td>5</td>\n",
       "      <td>4</td>\n",
       "      <td>4</td>\n",
       "    </tr>\n",
       "    <tr>\n",
       "      <th>16</th>\n",
       "      <td>1047630</td>\n",
       "      <td>7</td>\n",
       "      <td>4</td>\n",
       "      <td>6</td>\n",
       "      <td>4</td>\n",
       "      <td>6</td>\n",
       "      <td>1</td>\n",
       "      <td>4</td>\n",
       "      <td>3</td>\n",
       "      <td>1</td>\n",
       "      <td>4</td>\n",
       "    </tr>\n",
       "    <tr>\n",
       "      <th>17</th>\n",
       "      <td>1048672</td>\n",
       "      <td>4</td>\n",
       "      <td>1</td>\n",
       "      <td>1</td>\n",
       "      <td>1</td>\n",
       "      <td>2</td>\n",
       "      <td>1</td>\n",
       "      <td>2</td>\n",
       "      <td>1</td>\n",
       "      <td>1</td>\n",
       "      <td>2</td>\n",
       "    </tr>\n",
       "    <tr>\n",
       "      <th>18</th>\n",
       "      <td>1049815</td>\n",
       "      <td>4</td>\n",
       "      <td>1</td>\n",
       "      <td>1</td>\n",
       "      <td>1</td>\n",
       "      <td>2</td>\n",
       "      <td>1</td>\n",
       "      <td>3</td>\n",
       "      <td>1</td>\n",
       "      <td>1</td>\n",
       "      <td>2</td>\n",
       "    </tr>\n",
       "    <tr>\n",
       "      <th>19</th>\n",
       "      <td>1050670</td>\n",
       "      <td>10</td>\n",
       "      <td>7</td>\n",
       "      <td>7</td>\n",
       "      <td>6</td>\n",
       "      <td>4</td>\n",
       "      <td>10</td>\n",
       "      <td>4</td>\n",
       "      <td>1</td>\n",
       "      <td>2</td>\n",
       "      <td>4</td>\n",
       "    </tr>\n",
       "    <tr>\n",
       "      <th>20</th>\n",
       "      <td>1050718</td>\n",
       "      <td>6</td>\n",
       "      <td>1</td>\n",
       "      <td>1</td>\n",
       "      <td>1</td>\n",
       "      <td>2</td>\n",
       "      <td>1</td>\n",
       "      <td>3</td>\n",
       "      <td>1</td>\n",
       "      <td>1</td>\n",
       "      <td>2</td>\n",
       "    </tr>\n",
       "    <tr>\n",
       "      <th>21</th>\n",
       "      <td>1054590</td>\n",
       "      <td>7</td>\n",
       "      <td>3</td>\n",
       "      <td>2</td>\n",
       "      <td>10</td>\n",
       "      <td>5</td>\n",
       "      <td>10</td>\n",
       "      <td>5</td>\n",
       "      <td>4</td>\n",
       "      <td>4</td>\n",
       "      <td>4</td>\n",
       "    </tr>\n",
       "    <tr>\n",
       "      <th>22</th>\n",
       "      <td>1054593</td>\n",
       "      <td>10</td>\n",
       "      <td>5</td>\n",
       "      <td>5</td>\n",
       "      <td>3</td>\n",
       "      <td>6</td>\n",
       "      <td>7</td>\n",
       "      <td>7</td>\n",
       "      <td>10</td>\n",
       "      <td>1</td>\n",
       "      <td>4</td>\n",
       "    </tr>\n",
       "    <tr>\n",
       "      <th>23</th>\n",
       "      <td>1056784</td>\n",
       "      <td>3</td>\n",
       "      <td>1</td>\n",
       "      <td>1</td>\n",
       "      <td>1</td>\n",
       "      <td>2</td>\n",
       "      <td>1</td>\n",
       "      <td>2</td>\n",
       "      <td>1</td>\n",
       "      <td>1</td>\n",
       "      <td>2</td>\n",
       "    </tr>\n",
       "    <tr>\n",
       "      <th>24</th>\n",
       "      <td>1059552</td>\n",
       "      <td>1</td>\n",
       "      <td>1</td>\n",
       "      <td>1</td>\n",
       "      <td>1</td>\n",
       "      <td>2</td>\n",
       "      <td>1</td>\n",
       "      <td>3</td>\n",
       "      <td>1</td>\n",
       "      <td>1</td>\n",
       "      <td>2</td>\n",
       "    </tr>\n",
       "    <tr>\n",
       "      <th>25</th>\n",
       "      <td>1065726</td>\n",
       "      <td>5</td>\n",
       "      <td>2</td>\n",
       "      <td>3</td>\n",
       "      <td>4</td>\n",
       "      <td>2</td>\n",
       "      <td>7</td>\n",
       "      <td>3</td>\n",
       "      <td>6</td>\n",
       "      <td>1</td>\n",
       "      <td>4</td>\n",
       "    </tr>\n",
       "    <tr>\n",
       "      <th>26</th>\n",
       "      <td>1066373</td>\n",
       "      <td>3</td>\n",
       "      <td>2</td>\n",
       "      <td>1</td>\n",
       "      <td>1</td>\n",
       "      <td>1</td>\n",
       "      <td>1</td>\n",
       "      <td>2</td>\n",
       "      <td>1</td>\n",
       "      <td>1</td>\n",
       "      <td>2</td>\n",
       "    </tr>\n",
       "    <tr>\n",
       "      <th>27</th>\n",
       "      <td>1066979</td>\n",
       "      <td>5</td>\n",
       "      <td>1</td>\n",
       "      <td>1</td>\n",
       "      <td>1</td>\n",
       "      <td>2</td>\n",
       "      <td>1</td>\n",
       "      <td>2</td>\n",
       "      <td>1</td>\n",
       "      <td>1</td>\n",
       "      <td>2</td>\n",
       "    </tr>\n",
       "    <tr>\n",
       "      <th>28</th>\n",
       "      <td>1067444</td>\n",
       "      <td>2</td>\n",
       "      <td>1</td>\n",
       "      <td>1</td>\n",
       "      <td>1</td>\n",
       "      <td>2</td>\n",
       "      <td>1</td>\n",
       "      <td>2</td>\n",
       "      <td>1</td>\n",
       "      <td>1</td>\n",
       "      <td>2</td>\n",
       "    </tr>\n",
       "    <tr>\n",
       "      <th>29</th>\n",
       "      <td>1070935</td>\n",
       "      <td>1</td>\n",
       "      <td>1</td>\n",
       "      <td>3</td>\n",
       "      <td>1</td>\n",
       "      <td>2</td>\n",
       "      <td>1</td>\n",
       "      <td>1</td>\n",
       "      <td>1</td>\n",
       "      <td>1</td>\n",
       "      <td>2</td>\n",
       "    </tr>\n",
       "    <tr>\n",
       "      <th>30</th>\n",
       "      <td>1070935</td>\n",
       "      <td>3</td>\n",
       "      <td>1</td>\n",
       "      <td>1</td>\n",
       "      <td>1</td>\n",
       "      <td>1</td>\n",
       "      <td>1</td>\n",
       "      <td>2</td>\n",
       "      <td>1</td>\n",
       "      <td>1</td>\n",
       "      <td>2</td>\n",
       "    </tr>\n",
       "    <tr>\n",
       "      <th>...</th>\n",
       "      <td>...</td>\n",
       "      <td>...</td>\n",
       "      <td>...</td>\n",
       "      <td>...</td>\n",
       "      <td>...</td>\n",
       "      <td>...</td>\n",
       "      <td>...</td>\n",
       "      <td>...</td>\n",
       "      <td>...</td>\n",
       "      <td>...</td>\n",
       "      <td>...</td>\n",
       "    </tr>\n",
       "    <tr>\n",
       "      <th>654</th>\n",
       "      <td>1350423</td>\n",
       "      <td>5</td>\n",
       "      <td>10</td>\n",
       "      <td>10</td>\n",
       "      <td>8</td>\n",
       "      <td>5</td>\n",
       "      <td>5</td>\n",
       "      <td>7</td>\n",
       "      <td>10</td>\n",
       "      <td>1</td>\n",
       "      <td>4</td>\n",
       "    </tr>\n",
       "    <tr>\n",
       "      <th>655</th>\n",
       "      <td>1352848</td>\n",
       "      <td>3</td>\n",
       "      <td>10</td>\n",
       "      <td>7</td>\n",
       "      <td>8</td>\n",
       "      <td>5</td>\n",
       "      <td>8</td>\n",
       "      <td>7</td>\n",
       "      <td>4</td>\n",
       "      <td>1</td>\n",
       "      <td>4</td>\n",
       "    </tr>\n",
       "    <tr>\n",
       "      <th>656</th>\n",
       "      <td>1353092</td>\n",
       "      <td>3</td>\n",
       "      <td>2</td>\n",
       "      <td>1</td>\n",
       "      <td>2</td>\n",
       "      <td>2</td>\n",
       "      <td>1</td>\n",
       "      <td>3</td>\n",
       "      <td>1</td>\n",
       "      <td>1</td>\n",
       "      <td>2</td>\n",
       "    </tr>\n",
       "    <tr>\n",
       "      <th>657</th>\n",
       "      <td>1354840</td>\n",
       "      <td>2</td>\n",
       "      <td>1</td>\n",
       "      <td>1</td>\n",
       "      <td>1</td>\n",
       "      <td>2</td>\n",
       "      <td>1</td>\n",
       "      <td>3</td>\n",
       "      <td>1</td>\n",
       "      <td>1</td>\n",
       "      <td>2</td>\n",
       "    </tr>\n",
       "    <tr>\n",
       "      <th>658</th>\n",
       "      <td>1354840</td>\n",
       "      <td>5</td>\n",
       "      <td>3</td>\n",
       "      <td>2</td>\n",
       "      <td>1</td>\n",
       "      <td>3</td>\n",
       "      <td>1</td>\n",
       "      <td>1</td>\n",
       "      <td>1</td>\n",
       "      <td>1</td>\n",
       "      <td>2</td>\n",
       "    </tr>\n",
       "    <tr>\n",
       "      <th>659</th>\n",
       "      <td>1355260</td>\n",
       "      <td>1</td>\n",
       "      <td>1</td>\n",
       "      <td>1</td>\n",
       "      <td>1</td>\n",
       "      <td>2</td>\n",
       "      <td>1</td>\n",
       "      <td>2</td>\n",
       "      <td>1</td>\n",
       "      <td>1</td>\n",
       "      <td>2</td>\n",
       "    </tr>\n",
       "    <tr>\n",
       "      <th>660</th>\n",
       "      <td>1365075</td>\n",
       "      <td>4</td>\n",
       "      <td>1</td>\n",
       "      <td>4</td>\n",
       "      <td>1</td>\n",
       "      <td>2</td>\n",
       "      <td>1</td>\n",
       "      <td>1</td>\n",
       "      <td>1</td>\n",
       "      <td>1</td>\n",
       "      <td>2</td>\n",
       "    </tr>\n",
       "    <tr>\n",
       "      <th>661</th>\n",
       "      <td>1365328</td>\n",
       "      <td>1</td>\n",
       "      <td>1</td>\n",
       "      <td>2</td>\n",
       "      <td>1</td>\n",
       "      <td>2</td>\n",
       "      <td>1</td>\n",
       "      <td>2</td>\n",
       "      <td>1</td>\n",
       "      <td>1</td>\n",
       "      <td>2</td>\n",
       "    </tr>\n",
       "    <tr>\n",
       "      <th>662</th>\n",
       "      <td>1368267</td>\n",
       "      <td>5</td>\n",
       "      <td>1</td>\n",
       "      <td>1</td>\n",
       "      <td>1</td>\n",
       "      <td>2</td>\n",
       "      <td>1</td>\n",
       "      <td>1</td>\n",
       "      <td>1</td>\n",
       "      <td>1</td>\n",
       "      <td>2</td>\n",
       "    </tr>\n",
       "    <tr>\n",
       "      <th>663</th>\n",
       "      <td>1368273</td>\n",
       "      <td>1</td>\n",
       "      <td>1</td>\n",
       "      <td>1</td>\n",
       "      <td>1</td>\n",
       "      <td>2</td>\n",
       "      <td>1</td>\n",
       "      <td>1</td>\n",
       "      <td>1</td>\n",
       "      <td>1</td>\n",
       "      <td>2</td>\n",
       "    </tr>\n",
       "    <tr>\n",
       "      <th>664</th>\n",
       "      <td>1368882</td>\n",
       "      <td>2</td>\n",
       "      <td>1</td>\n",
       "      <td>1</td>\n",
       "      <td>1</td>\n",
       "      <td>2</td>\n",
       "      <td>1</td>\n",
       "      <td>1</td>\n",
       "      <td>1</td>\n",
       "      <td>1</td>\n",
       "      <td>2</td>\n",
       "    </tr>\n",
       "    <tr>\n",
       "      <th>665</th>\n",
       "      <td>1369821</td>\n",
       "      <td>10</td>\n",
       "      <td>10</td>\n",
       "      <td>10</td>\n",
       "      <td>10</td>\n",
       "      <td>5</td>\n",
       "      <td>10</td>\n",
       "      <td>10</td>\n",
       "      <td>10</td>\n",
       "      <td>7</td>\n",
       "      <td>4</td>\n",
       "    </tr>\n",
       "    <tr>\n",
       "      <th>666</th>\n",
       "      <td>1371026</td>\n",
       "      <td>5</td>\n",
       "      <td>10</td>\n",
       "      <td>10</td>\n",
       "      <td>10</td>\n",
       "      <td>4</td>\n",
       "      <td>10</td>\n",
       "      <td>5</td>\n",
       "      <td>6</td>\n",
       "      <td>3</td>\n",
       "      <td>4</td>\n",
       "    </tr>\n",
       "    <tr>\n",
       "      <th>667</th>\n",
       "      <td>1371920</td>\n",
       "      <td>5</td>\n",
       "      <td>1</td>\n",
       "      <td>1</td>\n",
       "      <td>1</td>\n",
       "      <td>2</td>\n",
       "      <td>1</td>\n",
       "      <td>3</td>\n",
       "      <td>2</td>\n",
       "      <td>1</td>\n",
       "      <td>2</td>\n",
       "    </tr>\n",
       "    <tr>\n",
       "      <th>668</th>\n",
       "      <td>466906</td>\n",
       "      <td>1</td>\n",
       "      <td>1</td>\n",
       "      <td>1</td>\n",
       "      <td>1</td>\n",
       "      <td>2</td>\n",
       "      <td>1</td>\n",
       "      <td>1</td>\n",
       "      <td>1</td>\n",
       "      <td>1</td>\n",
       "      <td>2</td>\n",
       "    </tr>\n",
       "    <tr>\n",
       "      <th>669</th>\n",
       "      <td>466906</td>\n",
       "      <td>1</td>\n",
       "      <td>1</td>\n",
       "      <td>1</td>\n",
       "      <td>1</td>\n",
       "      <td>2</td>\n",
       "      <td>1</td>\n",
       "      <td>1</td>\n",
       "      <td>1</td>\n",
       "      <td>1</td>\n",
       "      <td>2</td>\n",
       "    </tr>\n",
       "    <tr>\n",
       "      <th>670</th>\n",
       "      <td>534555</td>\n",
       "      <td>1</td>\n",
       "      <td>1</td>\n",
       "      <td>1</td>\n",
       "      <td>1</td>\n",
       "      <td>2</td>\n",
       "      <td>1</td>\n",
       "      <td>1</td>\n",
       "      <td>1</td>\n",
       "      <td>1</td>\n",
       "      <td>2</td>\n",
       "    </tr>\n",
       "    <tr>\n",
       "      <th>671</th>\n",
       "      <td>536708</td>\n",
       "      <td>1</td>\n",
       "      <td>1</td>\n",
       "      <td>1</td>\n",
       "      <td>1</td>\n",
       "      <td>2</td>\n",
       "      <td>1</td>\n",
       "      <td>1</td>\n",
       "      <td>1</td>\n",
       "      <td>1</td>\n",
       "      <td>2</td>\n",
       "    </tr>\n",
       "    <tr>\n",
       "      <th>672</th>\n",
       "      <td>566346</td>\n",
       "      <td>3</td>\n",
       "      <td>1</td>\n",
       "      <td>1</td>\n",
       "      <td>1</td>\n",
       "      <td>2</td>\n",
       "      <td>1</td>\n",
       "      <td>2</td>\n",
       "      <td>3</td>\n",
       "      <td>1</td>\n",
       "      <td>2</td>\n",
       "    </tr>\n",
       "    <tr>\n",
       "      <th>673</th>\n",
       "      <td>603148</td>\n",
       "      <td>4</td>\n",
       "      <td>1</td>\n",
       "      <td>1</td>\n",
       "      <td>1</td>\n",
       "      <td>2</td>\n",
       "      <td>1</td>\n",
       "      <td>1</td>\n",
       "      <td>1</td>\n",
       "      <td>1</td>\n",
       "      <td>2</td>\n",
       "    </tr>\n",
       "    <tr>\n",
       "      <th>674</th>\n",
       "      <td>654546</td>\n",
       "      <td>1</td>\n",
       "      <td>1</td>\n",
       "      <td>1</td>\n",
       "      <td>1</td>\n",
       "      <td>2</td>\n",
       "      <td>1</td>\n",
       "      <td>1</td>\n",
       "      <td>1</td>\n",
       "      <td>8</td>\n",
       "      <td>2</td>\n",
       "    </tr>\n",
       "    <tr>\n",
       "      <th>675</th>\n",
       "      <td>654546</td>\n",
       "      <td>1</td>\n",
       "      <td>1</td>\n",
       "      <td>1</td>\n",
       "      <td>3</td>\n",
       "      <td>2</td>\n",
       "      <td>1</td>\n",
       "      <td>1</td>\n",
       "      <td>1</td>\n",
       "      <td>1</td>\n",
       "      <td>2</td>\n",
       "    </tr>\n",
       "    <tr>\n",
       "      <th>676</th>\n",
       "      <td>695091</td>\n",
       "      <td>5</td>\n",
       "      <td>10</td>\n",
       "      <td>10</td>\n",
       "      <td>5</td>\n",
       "      <td>4</td>\n",
       "      <td>5</td>\n",
       "      <td>4</td>\n",
       "      <td>4</td>\n",
       "      <td>1</td>\n",
       "      <td>4</td>\n",
       "    </tr>\n",
       "    <tr>\n",
       "      <th>677</th>\n",
       "      <td>714039</td>\n",
       "      <td>3</td>\n",
       "      <td>1</td>\n",
       "      <td>1</td>\n",
       "      <td>1</td>\n",
       "      <td>2</td>\n",
       "      <td>1</td>\n",
       "      <td>1</td>\n",
       "      <td>1</td>\n",
       "      <td>1</td>\n",
       "      <td>2</td>\n",
       "    </tr>\n",
       "    <tr>\n",
       "      <th>678</th>\n",
       "      <td>763235</td>\n",
       "      <td>3</td>\n",
       "      <td>1</td>\n",
       "      <td>1</td>\n",
       "      <td>1</td>\n",
       "      <td>2</td>\n",
       "      <td>1</td>\n",
       "      <td>2</td>\n",
       "      <td>1</td>\n",
       "      <td>2</td>\n",
       "      <td>2</td>\n",
       "    </tr>\n",
       "    <tr>\n",
       "      <th>679</th>\n",
       "      <td>776715</td>\n",
       "      <td>3</td>\n",
       "      <td>1</td>\n",
       "      <td>1</td>\n",
       "      <td>1</td>\n",
       "      <td>3</td>\n",
       "      <td>2</td>\n",
       "      <td>1</td>\n",
       "      <td>1</td>\n",
       "      <td>1</td>\n",
       "      <td>2</td>\n",
       "    </tr>\n",
       "    <tr>\n",
       "      <th>680</th>\n",
       "      <td>841769</td>\n",
       "      <td>2</td>\n",
       "      <td>1</td>\n",
       "      <td>1</td>\n",
       "      <td>1</td>\n",
       "      <td>2</td>\n",
       "      <td>1</td>\n",
       "      <td>1</td>\n",
       "      <td>1</td>\n",
       "      <td>1</td>\n",
       "      <td>2</td>\n",
       "    </tr>\n",
       "    <tr>\n",
       "      <th>681</th>\n",
       "      <td>888820</td>\n",
       "      <td>5</td>\n",
       "      <td>10</td>\n",
       "      <td>10</td>\n",
       "      <td>3</td>\n",
       "      <td>7</td>\n",
       "      <td>3</td>\n",
       "      <td>8</td>\n",
       "      <td>10</td>\n",
       "      <td>2</td>\n",
       "      <td>4</td>\n",
       "    </tr>\n",
       "    <tr>\n",
       "      <th>682</th>\n",
       "      <td>897471</td>\n",
       "      <td>4</td>\n",
       "      <td>8</td>\n",
       "      <td>6</td>\n",
       "      <td>4</td>\n",
       "      <td>3</td>\n",
       "      <td>4</td>\n",
       "      <td>10</td>\n",
       "      <td>6</td>\n",
       "      <td>1</td>\n",
       "      <td>4</td>\n",
       "    </tr>\n",
       "    <tr>\n",
       "      <th>683</th>\n",
       "      <td>897471</td>\n",
       "      <td>4</td>\n",
       "      <td>8</td>\n",
       "      <td>8</td>\n",
       "      <td>5</td>\n",
       "      <td>4</td>\n",
       "      <td>5</td>\n",
       "      <td>10</td>\n",
       "      <td>4</td>\n",
       "      <td>1</td>\n",
       "      <td>4</td>\n",
       "    </tr>\n",
       "  </tbody>\n",
       "</table>\n",
       "<p>683 rows × 11 columns</p>\n",
       "</div>"
      ],
      "text/plain": [
       "     Sample code number  Clump Thickness  Uniformity of Cell Size  \\\n",
       "1               1000025                5                        1   \n",
       "2               1002945                5                        4   \n",
       "3               1015425                3                        1   \n",
       "4               1016277                6                        8   \n",
       "5               1017023                4                        1   \n",
       "6               1017122                8                       10   \n",
       "7               1018099                1                        1   \n",
       "8               1018561                2                        1   \n",
       "9               1033078                2                        1   \n",
       "10              1033078                4                        2   \n",
       "11              1035283                1                        1   \n",
       "12              1036172                2                        1   \n",
       "13              1041801                5                        3   \n",
       "14              1043999                1                        1   \n",
       "15              1044572                8                        7   \n",
       "16              1047630                7                        4   \n",
       "17              1048672                4                        1   \n",
       "18              1049815                4                        1   \n",
       "19              1050670               10                        7   \n",
       "20              1050718                6                        1   \n",
       "21              1054590                7                        3   \n",
       "22              1054593               10                        5   \n",
       "23              1056784                3                        1   \n",
       "24              1059552                1                        1   \n",
       "25              1065726                5                        2   \n",
       "26              1066373                3                        2   \n",
       "27              1066979                5                        1   \n",
       "28              1067444                2                        1   \n",
       "29              1070935                1                        1   \n",
       "30              1070935                3                        1   \n",
       "..                  ...              ...                      ...   \n",
       "654             1350423                5                       10   \n",
       "655             1352848                3                       10   \n",
       "656             1353092                3                        2   \n",
       "657             1354840                2                        1   \n",
       "658             1354840                5                        3   \n",
       "659             1355260                1                        1   \n",
       "660             1365075                4                        1   \n",
       "661             1365328                1                        1   \n",
       "662             1368267                5                        1   \n",
       "663             1368273                1                        1   \n",
       "664             1368882                2                        1   \n",
       "665             1369821               10                       10   \n",
       "666             1371026                5                       10   \n",
       "667             1371920                5                        1   \n",
       "668              466906                1                        1   \n",
       "669              466906                1                        1   \n",
       "670              534555                1                        1   \n",
       "671              536708                1                        1   \n",
       "672              566346                3                        1   \n",
       "673              603148                4                        1   \n",
       "674              654546                1                        1   \n",
       "675              654546                1                        1   \n",
       "676              695091                5                       10   \n",
       "677              714039                3                        1   \n",
       "678              763235                3                        1   \n",
       "679              776715                3                        1   \n",
       "680              841769                2                        1   \n",
       "681              888820                5                       10   \n",
       "682              897471                4                        8   \n",
       "683              897471                4                        8   \n",
       "\n",
       "     Uniformity of Cell Shape  Marginal Adhesion  Single Epithelial Cell Size  \\\n",
       "1                           1                  1                            2   \n",
       "2                           4                  5                            7   \n",
       "3                           1                  1                            2   \n",
       "4                           8                  1                            3   \n",
       "5                           1                  3                            2   \n",
       "6                          10                  8                            7   \n",
       "7                           1                  1                            2   \n",
       "8                           2                  1                            2   \n",
       "9                           1                  1                            2   \n",
       "10                          1                  1                            2   \n",
       "11                          1                  1                            1   \n",
       "12                          1                  1                            2   \n",
       "13                          3                  3                            2   \n",
       "14                          1                  1                            2   \n",
       "15                          5                 10                            7   \n",
       "16                          6                  4                            6   \n",
       "17                          1                  1                            2   \n",
       "18                          1                  1                            2   \n",
       "19                          7                  6                            4   \n",
       "20                          1                  1                            2   \n",
       "21                          2                 10                            5   \n",
       "22                          5                  3                            6   \n",
       "23                          1                  1                            2   \n",
       "24                          1                  1                            2   \n",
       "25                          3                  4                            2   \n",
       "26                          1                  1                            1   \n",
       "27                          1                  1                            2   \n",
       "28                          1                  1                            2   \n",
       "29                          3                  1                            2   \n",
       "30                          1                  1                            1   \n",
       "..                        ...                ...                          ...   \n",
       "654                        10                  8                            5   \n",
       "655                         7                  8                            5   \n",
       "656                         1                  2                            2   \n",
       "657                         1                  1                            2   \n",
       "658                         2                  1                            3   \n",
       "659                         1                  1                            2   \n",
       "660                         4                  1                            2   \n",
       "661                         2                  1                            2   \n",
       "662                         1                  1                            2   \n",
       "663                         1                  1                            2   \n",
       "664                         1                  1                            2   \n",
       "665                        10                 10                            5   \n",
       "666                        10                 10                            4   \n",
       "667                         1                  1                            2   \n",
       "668                         1                  1                            2   \n",
       "669                         1                  1                            2   \n",
       "670                         1                  1                            2   \n",
       "671                         1                  1                            2   \n",
       "672                         1                  1                            2   \n",
       "673                         1                  1                            2   \n",
       "674                         1                  1                            2   \n",
       "675                         1                  3                            2   \n",
       "676                        10                  5                            4   \n",
       "677                         1                  1                            2   \n",
       "678                         1                  1                            2   \n",
       "679                         1                  1                            3   \n",
       "680                         1                  1                            2   \n",
       "681                        10                  3                            7   \n",
       "682                         6                  4                            3   \n",
       "683                         8                  5                            4   \n",
       "\n",
       "    Bare Nuclei  Bland Chromatin  Normal Nucleoli  Mitoses  class  \n",
       "1             1                3                1        1      2  \n",
       "2            10                3                2        1      2  \n",
       "3             2                3                1        1      2  \n",
       "4             4                3                7        1      2  \n",
       "5             1                3                1        1      2  \n",
       "6            10                9                7        1      4  \n",
       "7            10                3                1        1      2  \n",
       "8             1                3                1        1      2  \n",
       "9             1                1                1        5      2  \n",
       "10            1                2                1        1      2  \n",
       "11            1                3                1        1      2  \n",
       "12            1                2                1        1      2  \n",
       "13            3                4                4        1      4  \n",
       "14            3                3                1        1      2  \n",
       "15            9                5                5        4      4  \n",
       "16            1                4                3        1      4  \n",
       "17            1                2                1        1      2  \n",
       "18            1                3                1        1      2  \n",
       "19           10                4                1        2      4  \n",
       "20            1                3                1        1      2  \n",
       "21           10                5                4        4      4  \n",
       "22            7                7               10        1      4  \n",
       "23            1                2                1        1      2  \n",
       "24            1                3                1        1      2  \n",
       "25            7                3                6        1      4  \n",
       "26            1                2                1        1      2  \n",
       "27            1                2                1        1      2  \n",
       "28            1                2                1        1      2  \n",
       "29            1                1                1        1      2  \n",
       "30            1                2                1        1      2  \n",
       "..          ...              ...              ...      ...    ...  \n",
       "654           5                7               10        1      4  \n",
       "655           8                7                4        1      4  \n",
       "656           1                3                1        1      2  \n",
       "657           1                3                1        1      2  \n",
       "658           1                1                1        1      2  \n",
       "659           1                2                1        1      2  \n",
       "660           1                1                1        1      2  \n",
       "661           1                2                1        1      2  \n",
       "662           1                1                1        1      2  \n",
       "663           1                1                1        1      2  \n",
       "664           1                1                1        1      2  \n",
       "665          10               10               10        7      4  \n",
       "666          10                5                6        3      4  \n",
       "667           1                3                2        1      2  \n",
       "668           1                1                1        1      2  \n",
       "669           1                1                1        1      2  \n",
       "670           1                1                1        1      2  \n",
       "671           1                1                1        1      2  \n",
       "672           1                2                3        1      2  \n",
       "673           1                1                1        1      2  \n",
       "674           1                1                1        8      2  \n",
       "675           1                1                1        1      2  \n",
       "676           5                4                4        1      4  \n",
       "677           1                1                1        1      2  \n",
       "678           1                2                1        2      2  \n",
       "679           2                1                1        1      2  \n",
       "680           1                1                1        1      2  \n",
       "681           3                8               10        2      4  \n",
       "682           4               10                6        1      4  \n",
       "683           5               10                4        1      4  \n",
       "\n",
       "[683 rows x 11 columns]"
      ]
     },
     "execution_count": 13,
     "metadata": {},
     "output_type": "execute_result"
    }
   ],
   "source": [
    "df"
   ]
  },
  {
   "cell_type": "markdown",
   "metadata": {},
   "source": [
    "Now assign  \n",
    "benign - 0  \n",
    "malignant-1"
   ]
  },
  {
   "cell_type": "code",
   "execution_count": 15,
   "metadata": {},
   "outputs": [],
   "source": [
    "def change(x):\n",
    "    if(x==2):\n",
    "        return 0\n",
    "    else:\n",
    "        return 1"
   ]
  },
  {
   "cell_type": "markdown",
   "metadata": {},
   "source": [
    "# Seperate feature vector and target vector"
   ]
  },
  {
   "cell_type": "code",
   "execution_count": 16,
   "metadata": {
    "scrolled": true
   },
   "outputs": [],
   "source": [
    "#apply this \"change\" function to column=class\n",
    "df_output=df['class'].apply(change)"
   ]
  },
  {
   "cell_type": "code",
   "execution_count": 20,
   "metadata": {},
   "outputs": [],
   "source": [
    "df_features=df.iloc[:,:10]"
   ]
  },
  {
   "cell_type": "markdown",
   "metadata": {},
   "source": [
    "Therefore our feature vector is df_features <br> and target vector is df_output"
   ]
  },
  {
   "cell_type": "markdown",
   "metadata": {},
   "source": [
    "# Graph"
   ]
  },
  {
   "cell_type": "markdown",
   "metadata": {},
   "source": [
    "Below graph shows dependencies of tumor against given features"
   ]
  },
  {
   "cell_type": "code",
   "execution_count": 211,
   "metadata": {},
   "outputs": [
    {
     "data": {
      "text/plain": [
       "<matplotlib.axes._subplots.AxesSubplot at 0xdf8f438>"
      ]
     },
     "execution_count": 211,
     "metadata": {},
     "output_type": "execute_result"
    },
    {
     "data": {
      "image/png": "[encoded data removed]",
      "text/plain": [
       "<Figure size 432x288 with 1 Axes>"
      ]
     },
     "metadata": {},
     "output_type": "display_data"
    }
   ],
   "source": [
    "#number of Benign (0) and malignant tumor (1)\n",
    "sns.countplot(df_output)"
   ]
  },
  {
   "cell_type": "code",
   "execution_count": 227,
   "metadata": {},
   "outputs": [
    {
     "data": {
      "text/plain": [
       "<matplotlib.axes._subplots.AxesSubplot at 0xfcf98d0>"
      ]
     },
     "execution_count": 227,
     "metadata": {},
     "output_type": "execute_result"
    },
    {
     "data": {
      "image/png": "[encoded data removed]",
      "text/plain": [
       "<Figure size 864x288 with 1 Axes>"
      ]
     },
     "metadata": {},
     "output_type": "display_data"
    }
   ],
   "source": [
    "#variation against clump thichkness\n",
    "plt.figure(figsize=(12,4))\n",
    "sns.countplot(df_features['Clump Thickness'],hue=df_output)"
   ]
  },
  {
   "cell_type": "code",
   "execution_count": 216,
   "metadata": {},
   "outputs": [
    {
     "data": {
      "text/plain": [
       "<matplotlib.axes._subplots.AxesSubplot at 0xe4f01d0>"
      ]
     },
     "execution_count": 216,
     "metadata": {},
     "output_type": "execute_result"
    },
    {
     "data": {
      "image/png": "[encoded data removed]",
      "text/plain": [
       "<Figure size 864x288 with 1 Axes>"
      ]
     },
     "metadata": {},
     "output_type": "display_data"
    }
   ],
   "source": [
    "#variation against Uniformity of Cell Size\n",
    "plt.figure(figsize=(12,4))\n",
    "sns.countplot(df_features['Uniformity of Cell Size'],hue=df_output)"
   ]
  },
  {
   "cell_type": "code",
   "execution_count": 217,
   "metadata": {},
   "outputs": [
    {
     "data": {
      "text/plain": [
       "<matplotlib.axes._subplots.AxesSubplot at 0xe316ba8>"
      ]
     },
     "execution_count": 217,
     "metadata": {},
     "output_type": "execute_result"
    },
    {
     "data": {
      "image/png": "[encoded data removed]",
      "text/plain": [
       "<Figure size 864x288 with 1 Axes>"
      ]
     },
     "metadata": {},
     "output_type": "display_data"
    }
   ],
   "source": [
    "#variation against Uniformity of Cell Shape\n",
    "plt.figure(figsize=(12,4))\n",
    "sns.countplot(df_features['Uniformity of Cell Shape'],hue=df_output)"
   ]
  },
  {
   "cell_type": "code",
   "execution_count": 218,
   "metadata": {},
   "outputs": [
    {
     "data": {
      "text/plain": [
       "<matplotlib.axes._subplots.AxesSubplot at 0xe3ed198>"
      ]
     },
     "execution_count": 218,
     "metadata": {},
     "output_type": "execute_result"
    },
    {
     "data": {
      "image/png": "[encoded data removed]",
      "text/plain": [
       "<Figure size 864x288 with 1 Axes>"
      ]
     },
     "metadata": {},
     "output_type": "display_data"
    }
   ],
   "source": [
    "#variation against Marginal Adhesion\n",
    "plt.figure(figsize=(12,4))\n",
    "sns.countplot(df_features['Marginal Adhesion'],hue=df_output)"
   ]
  },
  {
   "cell_type": "code",
   "execution_count": 219,
   "metadata": {},
   "outputs": [
    {
     "data": {
      "text/plain": [
       "<matplotlib.axes._subplots.AxesSubplot at 0xe7378d0>"
      ]
     },
     "execution_count": 219,
     "metadata": {},
     "output_type": "execute_result"
    },
    {
     "data": {
      "image/png": "[encoded data removed]",
      "text/plain": [
       "<Figure size 864x288 with 1 Axes>"
      ]
     },
     "metadata": {},
     "output_type": "display_data"
    }
   ],
   "source": [
    "#variation against Single Epithelial Cell Size\n",
    "plt.figure(figsize=(12,4))\n",
    "sns.countplot(df_features['Single Epithelial Cell Size'],hue=df_output)"
   ]
  },
  {
   "cell_type": "code",
   "execution_count": 220,
   "metadata": {},
   "outputs": [
    {
     "data": {
      "text/plain": [
       "<matplotlib.axes._subplots.AxesSubplot at 0xe0c80f0>"
      ]
     },
     "execution_count": 220,
     "metadata": {},
     "output_type": "execute_result"
    },
    {
     "data": {
      "image/png": "[encoded data removed]",
      "text/plain": [
       "<Figure size 864x288 with 1 Axes>"
      ]
     },
     "metadata": {},
     "output_type": "display_data"
    }
   ],
   "source": [
    "#variation against Bare Nuclei\n",
    "plt.figure(figsize=(12,4))\n",
    "sns.countplot(df_features['Bare Nuclei'],hue=df_output)"
   ]
  },
  {
   "cell_type": "code",
   "execution_count": 221,
   "metadata": {},
   "outputs": [
    {
     "data": {
      "text/plain": [
       "<matplotlib.axes._subplots.AxesSubplot at 0xe011240>"
      ]
     },
     "execution_count": 221,
     "metadata": {},
     "output_type": "execute_result"
    },
    {
     "data": {
      "image/png": "[encoded data removed]",
      "text/plain": [
       "<Figure size 864x288 with 1 Axes>"
      ]
     },
     "metadata": {},
     "output_type": "display_data"
    }
   ],
   "source": [
    "#variation against Bland Chromatin\n",
    "plt.figure(figsize=(12,4))\n",
    "sns.countplot(df_features['Bland Chromatin'],hue=df_output)"
   ]
  },
  {
   "cell_type": "code",
   "execution_count": 222,
   "metadata": {},
   "outputs": [
    {
     "data": {
      "text/plain": [
       "<matplotlib.axes._subplots.AxesSubplot at 0xe897e10>"
      ]
     },
     "execution_count": 222,
     "metadata": {},
     "output_type": "execute_result"
    },
    {
     "data": {
      "image/png": "[encoded data removed]",
      "text/plain": [
       "<Figure size 864x288 with 1 Axes>"
      ]
     },
     "metadata": {},
     "output_type": "display_data"
    }
   ],
   "source": [
    "#variation against Normal Nucleoli\n",
    "plt.figure(figsize=(12,4))\n",
    "sns.countplot(df_features['Normal Nucleoli'],hue=df_output)"
   ]
  },
  {
   "cell_type": "code",
   "execution_count": 226,
   "metadata": {},
   "outputs": [
    {
     "data": {
      "text/plain": [
       "<matplotlib.axes._subplots.AxesSubplot at 0xd769be0>"
      ]
     },
     "execution_count": 226,
     "metadata": {},
     "output_type": "execute_result"
    },
    {
     "data": {
      "image/png": "[encoded data removed]",
      "text/plain": [
       "<Figure size 864x288 with 1 Axes>"
      ]
     },
     "metadata": {},
     "output_type": "display_data"
    }
   ],
   "source": [
    "#variation against Mitoses\n",
    "plt.figure(figsize=(12,4))\n",
    "sns.countplot(df_features['Mitoses'],hue=df_output)"
   ]
  },
  {
   "cell_type": "markdown",
   "metadata": {},
   "source": [
    "# Split it dataset for training and testing "
   ]
  },
  {
   "cell_type": "code",
   "execution_count": 22,
   "metadata": {},
   "outputs": [],
   "source": [
    "from sklearn.model_selection import train_test_split\n",
    "X_train,X_test,y_train,y_test = train_test_split(df_features,df_output,test_size=0.2, random_state=21)"
   ]
  },
  {
   "cell_type": "code",
   "execution_count": 23,
   "metadata": {},
   "outputs": [
    {
     "name": "stdout",
     "output_type": "stream",
     "text": [
      "Training feature vector (546, 10)\n",
      "Training target vector (546,)\n",
      "Testing feature vector (137, 10)\n",
      "Testing target vector (137,)\n"
     ]
    }
   ],
   "source": [
    "print(\"Training feature vector\",X_train.shape)\n",
    "print(\"Training target vector\",y_train.shape)\n",
    "print(\"Testing feature vector\",X_test.shape)\n",
    "print(\"Testing target vector\",y_test.shape)"
   ]
  },
  {
   "cell_type": "markdown",
   "metadata": {},
   "source": [
    "# Classification"
   ]
  },
  {
   "cell_type": "markdown",
   "metadata": {},
   "source": [
    "Here we are considering bengin=0 i.e., negative class <br>and malignant=1 i.e., positive class"
   ]
  },
  {
   "cell_type": "markdown",
   "metadata": {},
   "source": [
    "Different classifier has been used to classify and to show false positive and false negative rate<br>Finally to reduce False Negative rate (As mentioned in question) I used Voting Classifier which will take vote of 5 classifier and give its result according to vote. "
   ]
  },
  {
   "cell_type": "code",
   "execution_count": 53,
   "metadata": {},
   "outputs": [],
   "source": [
    "from sklearn import metrics\n",
    "from sklearn.metrics import classification_report"
   ]
  },
  {
   "cell_type": "code",
   "execution_count": 34,
   "metadata": {},
   "outputs": [],
   "source": [
    "def evaluation(metric):\n",
    "    TP=metric[1][1]\n",
    "    TN=metric[0][0]\n",
    "    FP=metric[0][1]\n",
    "    FN=metric[1][0]\n",
    "    print(\"True positive (Actually malignant and predicted as malignant)=\",TP)\n",
    "    print(\"True negative (Actually bengin and predicted as bengin)=\",TN)\n",
    "    print(\"False positive (Actually bengin and predicted as malignant)=\",FP)\n",
    "    print(\"False negative (Actually malignant and predicted as bengin)=\",FN)\n",
    "    print(\"Accuracy of model=\",(TP+TN)/(TP+TN+FP+FN))\n",
    "    print(\"Sensitivity of model=\",TP/(TN+FN))\n",
    "    print(\"Specificity of model=\",TN/(TN+FP))\n",
    "    print(\"False postive rate=\",FP/(TN+FP))\n",
    "    print(\"False negative rate=\",FN/(TP+FN))"
   ]
  },
  {
   "cell_type": "markdown",
   "metadata": {},
   "source": [
    "__1. Decision tree__"
   ]
  },
  {
   "cell_type": "code",
   "execution_count": 55,
   "metadata": {},
   "outputs": [],
   "source": [
    "from sklearn.tree import DecisionTreeClassifier\n",
    "dt=DecisionTreeClassifier()\n",
    "dt.fit(X_train,y_train)\n",
    "#predict\n",
    "y_pred = dt.predict(X_test)"
   ]
  },
  {
   "cell_type": "code",
   "execution_count": 56,
   "metadata": {},
   "outputs": [],
   "source": [
    "conf_metrics=metrics.confusion_matrix(y_test,y_pred)"
   ]
  },
  {
   "cell_type": "code",
   "execution_count": 57,
   "metadata": {},
   "outputs": [
    {
     "data": {
      "text/plain": [
       "array([[84,  0],\n",
       "       [ 8, 45]], dtype=int64)"
      ]
     },
     "execution_count": 57,
     "metadata": {},
     "output_type": "execute_result"
    }
   ],
   "source": [
    "conf_metrics"
   ]
  },
  {
   "cell_type": "code",
   "execution_count": 58,
   "metadata": {},
   "outputs": [
    {
     "name": "stdout",
     "output_type": "stream",
     "text": [
      "True positive (Actually malignant and predicted as malignant)= 45\n",
      "True negative (Actually bengin and predicted as bengin)= 84\n",
      "False positive (Actually bengin and predicted as malignant)= 0\n",
      "False negative (Actually malignant and predicted as bengin)= 8\n",
      "Accuracy of model= 0.9416058394160584\n",
      "Sensitivity of model= 0.4891304347826087\n",
      "Specificity of model= 1.0\n",
      "False postive rate= 0.0\n",
      "False negative rate= 0.1509433962264151\n"
     ]
    }
   ],
   "source": [
    "evaluation(conf_metrics)"
   ]
  },
  {
   "cell_type": "code",
   "execution_count": 59,
   "metadata": {},
   "outputs": [
    {
     "name": "stdout",
     "output_type": "stream",
     "text": [
      "             precision    recall  f1-score   support\n",
      "\n",
      "          0       0.91      1.00      0.95        84\n",
      "          1       1.00      0.85      0.92        53\n",
      "\n",
      "avg / total       0.95      0.94      0.94       137\n",
      "\n"
     ]
    }
   ],
   "source": [
    "print(classification_report(y_test, y_pred))"
   ]
  },
  {
   "cell_type": "markdown",
   "metadata": {},
   "source": [
    "__2. Random forest__"
   ]
  },
  {
   "cell_type": "code",
   "execution_count": 60,
   "metadata": {},
   "outputs": [],
   "source": [
    "from sklearn.ensemble import RandomForestClassifier\n",
    "rf=RandomForestClassifier(n_estimators=20)\n",
    "rf.fit(X_train,y_train)\n",
    "#predict\n",
    "y_pred = rf.predict(X_test)"
   ]
  },
  {
   "cell_type": "code",
   "execution_count": 61,
   "metadata": {},
   "outputs": [
    {
     "name": "stdout",
     "output_type": "stream",
     "text": [
      "[[83  1]\n",
      " [ 3 50]]\n"
     ]
    }
   ],
   "source": [
    "conf_metrics=metrics.confusion_matrix(y_test,y_pred)\n",
    "print(conf_metrics)"
   ]
  },
  {
   "cell_type": "code",
   "execution_count": 62,
   "metadata": {},
   "outputs": [
    {
     "name": "stdout",
     "output_type": "stream",
     "text": [
      "True positive (Actually malignant and predicted as malignant)= 50\n",
      "True negative (Actually bengin and predicted as bengin)= 83\n",
      "False positive (Actually bengin and predicted as malignant)= 1\n",
      "False negative (Actually malignant and predicted as bengin)= 3\n",
      "Accuracy of model= 0.9708029197080292\n",
      "Sensitivity of model= 0.5813953488372093\n",
      "Specificity of model= 0.9880952380952381\n",
      "False postive rate= 0.011904761904761904\n",
      "False negative rate= 0.05660377358490566\n"
     ]
    }
   ],
   "source": [
    "evaluation(conf_metrics)"
   ]
  },
  {
   "cell_type": "code",
   "execution_count": 63,
   "metadata": {},
   "outputs": [
    {
     "name": "stdout",
     "output_type": "stream",
     "text": [
      "             precision    recall  f1-score   support\n",
      "\n",
      "          0       0.97      0.99      0.98        84\n",
      "          1       0.98      0.94      0.96        53\n",
      "\n",
      "avg / total       0.97      0.97      0.97       137\n",
      "\n"
     ]
    }
   ],
   "source": [
    "print(classification_report(y_test, y_pred))"
   ]
  },
  {
   "cell_type": "markdown",
   "metadata": {},
   "source": [
    "__3. KNN__"
   ]
  },
  {
   "cell_type": "code",
   "execution_count": 237,
   "metadata": {},
   "outputs": [],
   "source": [
    "from sklearn.neighbors import KNeighborsClassifier\n",
    "knn=KNeighborsClassifier(n_neighbors=5)\n",
    "knn.fit(X_train,y_train)\n",
    "#predict\n",
    "y_pred=knn.predict(X_test)"
   ]
  },
  {
   "cell_type": "code",
   "execution_count": 238,
   "metadata": {},
   "outputs": [
    {
     "name": "stdout",
     "output_type": "stream",
     "text": [
      "[[62 22]\n",
      " [36 17]]\n"
     ]
    }
   ],
   "source": [
    "conf_metrics=metrics.confusion_matrix(y_test,y_pred)\n",
    "print(conf_metrics)"
   ]
  },
  {
   "cell_type": "code",
   "execution_count": 66,
   "metadata": {},
   "outputs": [
    {
     "name": "stdout",
     "output_type": "stream",
     "text": [
      "True positive (Actually malignant and predicted as malignant)= 9\n",
      "True negative (Actually bengin and predicted as bengin)= 79\n",
      "False positive (Actually bengin and predicted as malignant)= 5\n",
      "False negative (Actually malignant and predicted as bengin)= 44\n",
      "Accuracy of model= 0.6423357664233577\n",
      "Sensitivity of model= 0.07317073170731707\n",
      "Specificity of model= 0.9404761904761905\n",
      "False postive rate= 0.05952380952380952\n",
      "False negative rate= 0.8301886792452831\n"
     ]
    }
   ],
   "source": [
    "evaluation(conf_metrics)"
   ]
  },
  {
   "cell_type": "code",
   "execution_count": 67,
   "metadata": {},
   "outputs": [
    {
     "name": "stdout",
     "output_type": "stream",
     "text": [
      "             precision    recall  f1-score   support\n",
      "\n",
      "          0       0.64      0.94      0.76        84\n",
      "          1       0.64      0.17      0.27        53\n",
      "\n",
      "avg / total       0.64      0.64      0.57       137\n",
      "\n"
     ]
    }
   ],
   "source": [
    "print(classification_report(y_test, y_pred))"
   ]
  },
  {
   "cell_type": "markdown",
   "metadata": {},
   "source": [
    "__4. Naive bayes__"
   ]
  },
  {
   "cell_type": "code",
   "execution_count": 68,
   "metadata": {},
   "outputs": [],
   "source": [
    "from sklearn.naive_bayes import GaussianNB\n",
    "gnb=GaussianNB()\n",
    "gnb.fit(X_train,y_train)\n",
    "#predict\n",
    "y_pred = gnb.predict(X_test)"
   ]
  },
  {
   "cell_type": "code",
   "execution_count": 69,
   "metadata": {},
   "outputs": [
    {
     "name": "stdout",
     "output_type": "stream",
     "text": [
      "[[77  7]\n",
      " [17 36]]\n"
     ]
    }
   ],
   "source": [
    "conf_metrics=metrics.confusion_matrix(y_test,y_pred)\n",
    "print(conf_metrics)"
   ]
  },
  {
   "cell_type": "code",
   "execution_count": 70,
   "metadata": {},
   "outputs": [
    {
     "name": "stdout",
     "output_type": "stream",
     "text": [
      "True positive (Actually malignant and predicted as malignant)= 36\n",
      "True negative (Actually bengin and predicted as bengin)= 77\n",
      "False positive (Actually bengin and predicted as malignant)= 7\n",
      "False negative (Actually malignant and predicted as bengin)= 17\n",
      "Accuracy of model= 0.8248175182481752\n",
      "Sensitivity of model= 0.3829787234042553\n",
      "Specificity of model= 0.9166666666666666\n",
      "False postive rate= 0.08333333333333333\n",
      "False negative rate= 0.32075471698113206\n"
     ]
    }
   ],
   "source": [
    "evaluation(conf_metrics)"
   ]
  },
  {
   "cell_type": "code",
   "execution_count": 71,
   "metadata": {},
   "outputs": [
    {
     "name": "stdout",
     "output_type": "stream",
     "text": [
      "             precision    recall  f1-score   support\n",
      "\n",
      "          0       0.82      0.92      0.87        84\n",
      "          1       0.84      0.68      0.75        53\n",
      "\n",
      "avg / total       0.83      0.82      0.82       137\n",
      "\n"
     ]
    }
   ],
   "source": [
    "print(classification_report(y_test, y_pred))"
   ]
  },
  {
   "cell_type": "markdown",
   "metadata": {},
   "source": [
    "__5. Logistic Regression__"
   ]
  },
  {
   "cell_type": "code",
   "execution_count": 74,
   "metadata": {},
   "outputs": [],
   "source": [
    "from sklearn.linear_model import LogisticRegression\n",
    "lg=LogisticRegression(random_state=42, solver='newton-cg')\n",
    "lg.fit(X_train,y_train)\n",
    "#predict\n",
    "y_pred=lg.predict(X_test)"
   ]
  },
  {
   "cell_type": "code",
   "execution_count": 75,
   "metadata": {},
   "outputs": [
    {
     "name": "stdout",
     "output_type": "stream",
     "text": [
      "[[84  0]\n",
      " [ 4 49]]\n"
     ]
    }
   ],
   "source": [
    "conf_metrics=metrics.confusion_matrix(y_test,y_pred)\n",
    "print(conf_metrics)"
   ]
  },
  {
   "cell_type": "code",
   "execution_count": 76,
   "metadata": {},
   "outputs": [
    {
     "name": "stdout",
     "output_type": "stream",
     "text": [
      "True positive (Actually malignant and predicted as malignant)= 49\n",
      "True negative (Actually bengin and predicted as bengin)= 84\n",
      "False positive (Actually bengin and predicted as malignant)= 0\n",
      "False negative (Actually malignant and predicted as bengin)= 4\n",
      "Accuracy of model= 0.9708029197080292\n",
      "Sensitivity of model= 0.5568181818181818\n",
      "Specificity of model= 1.0\n",
      "False postive rate= 0.0\n",
      "False negative rate= 0.07547169811320754\n"
     ]
    }
   ],
   "source": [
    "evaluation(conf_metrics)"
   ]
  },
  {
   "cell_type": "code",
   "execution_count": 77,
   "metadata": {},
   "outputs": [
    {
     "name": "stdout",
     "output_type": "stream",
     "text": [
      "             precision    recall  f1-score   support\n",
      "\n",
      "          0       0.95      1.00      0.98        84\n",
      "          1       1.00      0.92      0.96        53\n",
      "\n",
      "avg / total       0.97      0.97      0.97       137\n",
      "\n"
     ]
    }
   ],
   "source": [
    "print(classification_report(y_test, y_pred))"
   ]
  },
  {
   "cell_type": "markdown",
   "metadata": {},
   "source": [
    "__6. QDA__"
   ]
  },
  {
   "cell_type": "code",
   "execution_count": 122,
   "metadata": {},
   "outputs": [],
   "source": [
    "from sklearn.discriminant_analysis import QuadraticDiscriminantAnalysis\n",
    "qda= QuadraticDiscriminantAnalysis()\n",
    "qda.fit(X_train,y_train)\n",
    "y_pred=qda.predict(X_test)"
   ]
  },
  {
   "cell_type": "code",
   "execution_count": 123,
   "metadata": {},
   "outputs": [
    {
     "name": "stdout",
     "output_type": "stream",
     "text": [
      "[[82  2]\n",
      " [ 2 51]]\n"
     ]
    }
   ],
   "source": [
    "conf_metrics=metrics.confusion_matrix(y_test,y_pred)\n",
    "print(conf_metrics)"
   ]
  },
  {
   "cell_type": "code",
   "execution_count": 124,
   "metadata": {},
   "outputs": [
    {
     "name": "stdout",
     "output_type": "stream",
     "text": [
      "True positive (Actually malignant and predicted as malignant)= 51\n",
      "True negative (Actually bengin and predicted as bengin)= 82\n",
      "False positive (Actually bengin and predicted as malignant)= 2\n",
      "False negative (Actually malignant and predicted as bengin)= 2\n",
      "Accuracy of model= 0.9708029197080292\n",
      "Sensitivity of model= 0.6071428571428571\n",
      "Specificity of model= 0.9761904761904762\n",
      "False postive rate= 0.023809523809523808\n",
      "False negative rate= 0.03773584905660377\n"
     ]
    }
   ],
   "source": [
    "evaluation(conf_metrics)"
   ]
  },
  {
   "cell_type": "code",
   "execution_count": 125,
   "metadata": {},
   "outputs": [
    {
     "name": "stdout",
     "output_type": "stream",
     "text": [
      "             precision    recall  f1-score   support\n",
      "\n",
      "          0       0.98      0.98      0.98        84\n",
      "          1       0.96      0.96      0.96        53\n",
      "\n",
      "avg / total       0.97      0.97      0.97       137\n",
      "\n"
     ]
    }
   ],
   "source": [
    "print(classification_report(y_test, y_pred))"
   ]
  },
  {
   "cell_type": "markdown",
   "metadata": {},
   "source": [
    "__7. AdaBoost__"
   ]
  },
  {
   "cell_type": "code",
   "execution_count": 126,
   "metadata": {},
   "outputs": [],
   "source": [
    "from sklearn.ensemble import AdaBoostClassifier\n",
    "adb= AdaBoostClassifier()\n",
    "adb.fit(X_train,y_train)\n",
    "y_pred=adb.predict(X_test)"
   ]
  },
  {
   "cell_type": "code",
   "execution_count": 127,
   "metadata": {},
   "outputs": [
    {
     "name": "stdout",
     "output_type": "stream",
     "text": [
      "[[83  1]\n",
      " [ 2 51]]\n"
     ]
    }
   ],
   "source": [
    "conf_metrics=metrics.confusion_matrix(y_test,y_pred)\n",
    "print(conf_metrics)"
   ]
  },
  {
   "cell_type": "code",
   "execution_count": 128,
   "metadata": {},
   "outputs": [
    {
     "name": "stdout",
     "output_type": "stream",
     "text": [
      "True positive (Actually malignant and predicted as malignant)= 51\n",
      "True negative (Actually bengin and predicted as bengin)= 83\n",
      "False positive (Actually bengin and predicted as malignant)= 1\n",
      "False negative (Actually malignant and predicted as bengin)= 2\n",
      "Accuracy of model= 0.9781021897810219\n",
      "Sensitivity of model= 0.6\n",
      "Specificity of model= 0.9880952380952381\n",
      "False postive rate= 0.011904761904761904\n",
      "False negative rate= 0.03773584905660377\n"
     ]
    }
   ],
   "source": [
    "evaluation(conf_metrics)"
   ]
  },
  {
   "cell_type": "code",
   "execution_count": 129,
   "metadata": {},
   "outputs": [
    {
     "name": "stdout",
     "output_type": "stream",
     "text": [
      "             precision    recall  f1-score   support\n",
      "\n",
      "          0       0.98      0.99      0.98        84\n",
      "          1       0.98      0.96      0.97        53\n",
      "\n",
      "avg / total       0.98      0.98      0.98       137\n",
      "\n"
     ]
    }
   ],
   "source": [
    "print(classification_report(y_test, y_pred))"
   ]
  },
  {
   "cell_type": "markdown",
   "metadata": {},
   "source": [
    "__8. Voting classifier__"
   ]
  },
  {
   "cell_type": "code",
   "execution_count": 187,
   "metadata": {},
   "outputs": [
    {
     "name": "stderr",
     "output_type": "stream",
     "text": [
      "C:\\Users\\Nishant\\Anaconda3\\lib\\site-packages\\sklearn\\preprocessing\\label.py:151: DeprecationWarning: The truth value of an empty array is ambiguous. Returning False, but in future this will result in an error. Use `array.size > 0` to check that an array is not empty.\n",
      "  if diff:\n"
     ]
    }
   ],
   "source": [
    "from sklearn.ensemble import VotingClassifier\n",
    "vc=VotingClassifier(estimators=[('dt',dt),('rf',rf),('lg',lg),('qda',qda),('adb',adb)],voting='soft',weights=[2,2,1,2,2],flatten_transform=True)\n",
    "vc.fit(X_train,y_train)\n",
    "y_pred=vc.predict(X_test)"
   ]
  },
  {
   "cell_type": "code",
   "execution_count": 188,
   "metadata": {},
   "outputs": [
    {
     "name": "stdout",
     "output_type": "stream",
     "text": [
      "[[83  1]\n",
      " [ 2 51]]\n"
     ]
    }
   ],
   "source": [
    "conf_metrics=metrics.confusion_matrix(y_test,y_pred)\n",
    "print(conf_metrics)"
   ]
  },
  {
   "cell_type": "code",
   "execution_count": 189,
   "metadata": {},
   "outputs": [
    {
     "name": "stdout",
     "output_type": "stream",
     "text": [
      "True positive (Actually malignant and predicted as malignant)= 51\n",
      "True negative (Actually bengin and predicted as bengin)= 83\n",
      "False positive (Actually bengin and predicted as malignant)= 1\n",
      "False negative (Actually malignant and predicted as bengin)= 2\n",
      "Accuracy of model= 0.9781021897810219\n",
      "Sensitivity of model= 0.6\n",
      "Specificity of model= 0.9880952380952381\n",
      "False postive rate= 0.011904761904761904\n",
      "False negative rate= 0.03773584905660377\n"
     ]
    }
   ],
   "source": [
    "evaluation(conf_metrics)"
   ]
  },
  {
   "cell_type": "code",
   "execution_count": 190,
   "metadata": {},
   "outputs": [
    {
     "name": "stdout",
     "output_type": "stream",
     "text": [
      "             precision    recall  f1-score   support\n",
      "\n",
      "          0       0.98      0.99      0.98        84\n",
      "          1       0.98      0.96      0.97        53\n",
      "\n",
      "avg / total       0.98      0.98      0.98       137\n",
      "\n"
     ]
    }
   ],
   "source": [
    "print(classification_report(y_test, y_pred))"
   ]
  }
 ],
 "metadata": {
  "kernelspec": {
   "display_name": "Python 3",
   "language": "python",
   "name": "python3"
  },
  "language_info": {
   "codemirror_mode": {
    "name": "ipython",
    "version": 3
   },
   "file_extension": ".py",
   "mimetype": "text/x-python",
   "name": "python",
   "nbconvert_exporter": "python",
   "pygments_lexer": "ipython3",
   "version": "3.6.4"
  }
 },
 "nbformat": 4,
 "nbformat_minor": 2
}
